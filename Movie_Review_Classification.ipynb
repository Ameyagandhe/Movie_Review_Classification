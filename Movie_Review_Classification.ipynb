{
 "cells": [
  {
   "cell_type": "markdown",
   "id": "e0e893fd",
   "metadata": {},
   "source": [
    "# IMPORTING Libraries"
   ]
  },
  {
   "cell_type": "code",
   "execution_count": 1,
   "id": "f62ff432",
   "metadata": {},
   "outputs": [
    {
     "name": "stderr",
     "output_type": "stream",
     "text": [
      "[nltk_data] Downloading package punkt to\n",
      "[nltk_data]     C:\\Users\\ameyasgandhe\\AppData\\Roaming\\nltk_data...\n",
      "[nltk_data]   Package punkt is already up-to-date!\n",
      "[nltk_data] Downloading package stopwords to\n",
      "[nltk_data]     C:\\Users\\ameyasgandhe\\AppData\\Roaming\\nltk_data...\n",
      "[nltk_data]   Package stopwords is already up-to-date!\n",
      "[nltk_data] Downloading package wordnet to\n",
      "[nltk_data]     C:\\Users\\ameyasgandhe\\AppData\\Roaming\\nltk_data...\n",
      "[nltk_data]   Package wordnet is already up-to-date!\n",
      "[nltk_data] Downloading package omw-1.4 to\n",
      "[nltk_data]     C:\\Users\\ameyasgandhe\\AppData\\Roaming\\nltk_data...\n",
      "[nltk_data]   Package omw-1.4 is already up-to-date!\n"
     ]
    }
   ],
   "source": [
    "import pandas as pd\n",
    "import re\n",
    "from sklearn.preprocessing import MaxAbsScaler\n",
    "from unidecode import unidecode\n",
    "from sklearn.model_selection import train_test_split, GridSearchCV\n",
    "from sklearn.feature_extraction.text import TfidfVectorizer\n",
    "from sklearn.preprocessing import LabelEncoder, label_binarize\n",
    "from sklearn.linear_model import LogisticRegression\n",
    "from sklearn.metrics import classification_report\n",
    "from sklearn.pipeline import Pipeline\n",
    "import csv\n",
    "import numpy as np \n",
    "import matplotlib.pyplot as plt\n",
    "import nltk\n",
    "import re\n",
    "import string\n",
    "from nltk.corpus import stopwords\n",
    "nltk.download('punkt')\n",
    "nltk.download('stopwords')\n",
    "nltk.download('wordnet')\n",
    "nltk.download('omw-1.4')\n",
    "from nltk.tokenize import word_tokenize\n",
    "from nltk.stem import WordNetLemmatizer\n",
    "from nltk.stem import PorterStemmer\n",
    "from sklearn.model_selection import GridSearchCV\n",
    "from sklearn.metrics import accuracy_score, precision_score, recall_score, f1_score\n",
    "import seaborn as sns"
   ]
  },
  {
   "cell_type": "markdown",
   "id": "bb456a73",
   "metadata": {},
   "source": [
    "# Loading Data "
   ]
  },
  {
   "cell_type": "code",
   "execution_count": 2,
   "id": "bb7a96fc",
   "metadata": {},
   "outputs": [],
   "source": [
    "# Load the data\n",
    "train_data = pd.read_csv('train.csv')\n",
    "test_data = pd.read_csv('test.csv')\n",
    "train_data[\"TEXT\"]=train_data[\"TEXT\"].astype(str)"
   ]
  },
  {
   "cell_type": "code",
   "execution_count": 3,
   "id": "c230d6e5",
   "metadata": {},
   "outputs": [
    {
     "data": {
      "text/html": [
       "<div>\n",
       "<style scoped>\n",
       "    .dataframe tbody tr th:only-of-type {\n",
       "        vertical-align: middle;\n",
       "    }\n",
       "\n",
       "    .dataframe tbody tr th {\n",
       "        vertical-align: top;\n",
       "    }\n",
       "\n",
       "    .dataframe thead th {\n",
       "        text-align: right;\n",
       "    }\n",
       "</style>\n",
       "<table border=\"1\" class=\"dataframe\">\n",
       "  <thead>\n",
       "    <tr style=\"text-align: right;\">\n",
       "      <th></th>\n",
       "      <th>ID</th>\n",
       "      <th>TEXT</th>\n",
       "      <th>LABEL</th>\n",
       "    </tr>\n",
       "  </thead>\n",
       "  <tbody>\n",
       "    <tr>\n",
       "      <th>0</th>\n",
       "      <td>7850790573542594519</td>\n",
       "      <td>If you love good films don't ever buy this pei...</td>\n",
       "      <td>2</td>\n",
       "    </tr>\n",
       "    <tr>\n",
       "      <th>1</th>\n",
       "      <td>9392069522632994700</td>\n",
       "      <td>The 33 percent of the nations nitwits that sti...</td>\n",
       "      <td>2</td>\n",
       "    </tr>\n",
       "    <tr>\n",
       "      <th>2</th>\n",
       "      <td>5083704536542443514</td>\n",
       "      <td>I saw Anatomy years ago -- dubbed at a friends...</td>\n",
       "      <td>1</td>\n",
       "    </tr>\n",
       "    <tr>\n",
       "      <th>3</th>\n",
       "      <td>12418349755186772171</td>\n",
       "      <td>Dark Remains is a home run plain and simple. T...</td>\n",
       "      <td>1</td>\n",
       "    </tr>\n",
       "    <tr>\n",
       "      <th>4</th>\n",
       "      <td>12144957944004619479</td>\n",
       "      <td>Feh. This movie started out in an interesting ...</td>\n",
       "      <td>2</td>\n",
       "    </tr>\n",
       "    <tr>\n",
       "      <th>...</th>\n",
       "      <td>...</td>\n",
       "      <td>...</td>\n",
       "      <td>...</td>\n",
       "    </tr>\n",
       "    <tr>\n",
       "      <th>70312</th>\n",
       "      <td>4533411613007495120</td>\n",
       "      <td>I grew up looking for fairies in my backyard, ...</td>\n",
       "      <td>0</td>\n",
       "    </tr>\n",
       "    <tr>\n",
       "      <th>70313</th>\n",
       "      <td>2075555016956547354</td>\n",
       "      <td>Jeff King,a guy I know from work,LOVES this Mo...</td>\n",
       "      <td>2</td>\n",
       "    </tr>\n",
       "    <tr>\n",
       "      <th>70314</th>\n",
       "      <td>5446360756235190232</td>\n",
       "      <td>I love the way Inder writes this story. Honest...</td>\n",
       "      <td>0</td>\n",
       "    </tr>\n",
       "    <tr>\n",
       "      <th>70315</th>\n",
       "      <td>11502529898454172361</td>\n",
       "      <td>I watched this movie recently and fell in love...</td>\n",
       "      <td>1</td>\n",
       "    </tr>\n",
       "    <tr>\n",
       "      <th>70316</th>\n",
       "      <td>11352924827579021872</td>\n",
       "      <td>491. Из 9 фунтов муки испечено 16 белых хлебов...</td>\n",
       "      <td>0</td>\n",
       "    </tr>\n",
       "  </tbody>\n",
       "</table>\n",
       "<p>70317 rows × 3 columns</p>\n",
       "</div>"
      ],
      "text/plain": [
       "                         ID  \\\n",
       "0       7850790573542594519   \n",
       "1       9392069522632994700   \n",
       "2       5083704536542443514   \n",
       "3      12418349755186772171   \n",
       "4      12144957944004619479   \n",
       "...                     ...   \n",
       "70312   4533411613007495120   \n",
       "70313   2075555016956547354   \n",
       "70314   5446360756235190232   \n",
       "70315  11502529898454172361   \n",
       "70316  11352924827579021872   \n",
       "\n",
       "                                                    TEXT  LABEL  \n",
       "0      If you love good films don't ever buy this pei...      2  \n",
       "1      The 33 percent of the nations nitwits that sti...      2  \n",
       "2      I saw Anatomy years ago -- dubbed at a friends...      1  \n",
       "3      Dark Remains is a home run plain and simple. T...      1  \n",
       "4      Feh. This movie started out in an interesting ...      2  \n",
       "...                                                  ...    ...  \n",
       "70312  I grew up looking for fairies in my backyard, ...      0  \n",
       "70313  Jeff King,a guy I know from work,LOVES this Mo...      2  \n",
       "70314  I love the way Inder writes this story. Honest...      0  \n",
       "70315  I watched this movie recently and fell in love...      1  \n",
       "70316  491. Из 9 фунтов муки испечено 16 белых хлебов...      0  \n",
       "\n",
       "[70317 rows x 3 columns]"
      ]
     },
     "execution_count": 3,
     "metadata": {},
     "output_type": "execute_result"
    }
   ],
   "source": [
    "train_data"
   ]
  },
  {
   "cell_type": "code",
   "execution_count": 4,
   "id": "dd6b2ece",
   "metadata": {},
   "outputs": [
    {
     "data": {
      "text/html": [
       "<div>\n",
       "<style scoped>\n",
       "    .dataframe tbody tr th:only-of-type {\n",
       "        vertical-align: middle;\n",
       "    }\n",
       "\n",
       "    .dataframe tbody tr th {\n",
       "        vertical-align: top;\n",
       "    }\n",
       "\n",
       "    .dataframe thead th {\n",
       "        text-align: right;\n",
       "    }\n",
       "</style>\n",
       "<table border=\"1\" class=\"dataframe\">\n",
       "  <thead>\n",
       "    <tr style=\"text-align: right;\">\n",
       "      <th></th>\n",
       "      <th>ID</th>\n",
       "      <th>TEXT</th>\n",
       "    </tr>\n",
       "  </thead>\n",
       "  <tbody>\n",
       "    <tr>\n",
       "      <th>0</th>\n",
       "      <td>4728459160322025755</td>\n",
       "      <td>An excellent debut movie for the the director ...</td>\n",
       "    </tr>\n",
       "    <tr>\n",
       "      <th>1</th>\n",
       "      <td>1840432070229003467</td>\n",
       "      <td>If you have a preschooler or remember how stre...</td>\n",
       "    </tr>\n",
       "    <tr>\n",
       "      <th>2</th>\n",
       "      <td>12623336783082722606</td>\n",
       "      <td>What should have been a routine babysitting gi...</td>\n",
       "    </tr>\n",
       "    <tr>\n",
       "      <th>3</th>\n",
       "      <td>7446733850828603409</td>\n",
       "      <td>Cute but</td>\n",
       "    </tr>\n",
       "    <tr>\n",
       "      <th>4</th>\n",
       "      <td>16180660281866613068</td>\n",
       "      <td>Elvis Presley plays a \"half-breed\" Native Amer...</td>\n",
       "    </tr>\n",
       "  </tbody>\n",
       "</table>\n",
       "</div>"
      ],
      "text/plain": [
       "                     ID                                               TEXT\n",
       "0   4728459160322025755  An excellent debut movie for the the director ...\n",
       "1   1840432070229003467  If you have a preschooler or remember how stre...\n",
       "2  12623336783082722606  What should have been a routine babysitting gi...\n",
       "3   7446733850828603409                                           Cute but\n",
       "4  16180660281866613068  Elvis Presley plays a \"half-breed\" Native Amer..."
      ]
     },
     "execution_count": 4,
     "metadata": {},
     "output_type": "execute_result"
    }
   ],
   "source": [
    "test_data.head()"
   ]
  },
  {
   "cell_type": "code",
   "execution_count": 5,
   "id": "728f42f2",
   "metadata": {},
   "outputs": [
    {
     "data": {
      "text/plain": [
       "0    32071\n",
       "1    19276\n",
       "2    18970\n",
       "Name: LABEL, dtype: int64"
      ]
     },
     "execution_count": 5,
     "metadata": {},
     "output_type": "execute_result"
    }
   ],
   "source": [
    "train_data['LABEL'].value_counts()"
   ]
  },
  {
   "cell_type": "code",
   "execution_count": 6,
   "id": "f6b30b57",
   "metadata": {},
   "outputs": [
    {
     "data": {
      "image/png": "[encoded data removed]",
      "text/plain": [
       "<Figure size 800x400 with 1 Axes>"
      ]
     },
     "metadata": {},
     "output_type": "display_data"
    }
   ],
   "source": [
    "colors = ['#000C66','#00FFFF', '#7EC8E3']\n",
    "labels = ['Positive', 'Negative', 'Neutral']\n",
    "values = pd.Series(train_data['LABEL']).value_counts()\n",
    "\n",
    "plt.figure(figsize=(8, 4), tight_layout=True)\n",
    "sns.barplot(x=labels, y=values, palette=colors)\n",
    "plt.title('LabelAnalysis')\n",
    "plt.savefig('LabelAnalysis.png')\n",
    "plt.show()"
   ]
  },
  {
   "cell_type": "markdown",
   "id": "4caf4e73",
   "metadata": {},
   "source": [
    "# Text Preprocessing"
   ]
  },
  {
   "cell_type": "code",
   "execution_count": 7,
   "id": "82d3de4a",
   "metadata": {},
   "outputs": [],
   "source": [
    "train_data[\"TEXT\"]=train_data[\"TEXT\"].astype(str)\n",
    "test_data[\"TEXT\"]=test_data[\"TEXT\"].astype(str)"
   ]
  },
  {
   "cell_type": "code",
   "execution_count": 8,
   "id": "d9342171",
   "metadata": {},
   "outputs": [
    {
     "data": {
      "text/html": [
       "<div>\n",
       "<style scoped>\n",
       "    .dataframe tbody tr th:only-of-type {\n",
       "        vertical-align: middle;\n",
       "    }\n",
       "\n",
       "    .dataframe tbody tr th {\n",
       "        vertical-align: top;\n",
       "    }\n",
       "\n",
       "    .dataframe thead th {\n",
       "        text-align: right;\n",
       "    }\n",
       "</style>\n",
       "<table border=\"1\" class=\"dataframe\">\n",
       "  <thead>\n",
       "    <tr style=\"text-align: right;\">\n",
       "      <th></th>\n",
       "      <th>ID</th>\n",
       "      <th>TEXT</th>\n",
       "      <th>LABEL</th>\n",
       "    </tr>\n",
       "  </thead>\n",
       "  <tbody>\n",
       "    <tr>\n",
       "      <th>0</th>\n",
       "      <td>7850790573542594519</td>\n",
       "      <td>If you love good films don't ever buy this pei...</td>\n",
       "      <td>2</td>\n",
       "    </tr>\n",
       "    <tr>\n",
       "      <th>1</th>\n",
       "      <td>9392069522632994700</td>\n",
       "      <td>The 33 percent of the nations nitwits that sti...</td>\n",
       "      <td>2</td>\n",
       "    </tr>\n",
       "    <tr>\n",
       "      <th>2</th>\n",
       "      <td>5083704536542443514</td>\n",
       "      <td>I saw Anatomy years ago -- dubbed at a friends...</td>\n",
       "      <td>1</td>\n",
       "    </tr>\n",
       "    <tr>\n",
       "      <th>3</th>\n",
       "      <td>12418349755186772171</td>\n",
       "      <td>Dark Remains is a home run plain and simple. T...</td>\n",
       "      <td>1</td>\n",
       "    </tr>\n",
       "    <tr>\n",
       "      <th>4</th>\n",
       "      <td>12144957944004619479</td>\n",
       "      <td>Feh. This movie started out in an interesting ...</td>\n",
       "      <td>2</td>\n",
       "    </tr>\n",
       "  </tbody>\n",
       "</table>\n",
       "</div>"
      ],
      "text/plain": [
       "                     ID                                               TEXT  \\\n",
       "0   7850790573542594519  If you love good films don't ever buy this pei...   \n",
       "1   9392069522632994700  The 33 percent of the nations nitwits that sti...   \n",
       "2   5083704536542443514  I saw Anatomy years ago -- dubbed at a friends...   \n",
       "3  12418349755186772171  Dark Remains is a home run plain and simple. T...   \n",
       "4  12144957944004619479  Feh. This movie started out in an interesting ...   \n",
       "\n",
       "   LABEL  \n",
       "0      2  \n",
       "1      2  \n",
       "2      1  \n",
       "3      1  \n",
       "4      2  "
      ]
     },
     "execution_count": 8,
     "metadata": {},
     "output_type": "execute_result"
    }
   ],
   "source": [
    "train_data.head(5)"
   ]
  },
  {
   "cell_type": "code",
   "execution_count": 9,
   "id": "9027b60f",
   "metadata": {},
   "outputs": [
    {
     "data": {
      "text/html": [
       "<div>\n",
       "<style scoped>\n",
       "    .dataframe tbody tr th:only-of-type {\n",
       "        vertical-align: middle;\n",
       "    }\n",
       "\n",
       "    .dataframe tbody tr th {\n",
       "        vertical-align: top;\n",
       "    }\n",
       "\n",
       "    .dataframe thead th {\n",
       "        text-align: right;\n",
       "    }\n",
       "</style>\n",
       "<table border=\"1\" class=\"dataframe\">\n",
       "  <thead>\n",
       "    <tr style=\"text-align: right;\">\n",
       "      <th></th>\n",
       "      <th>ID</th>\n",
       "      <th>TEXT</th>\n",
       "    </tr>\n",
       "  </thead>\n",
       "  <tbody>\n",
       "    <tr>\n",
       "      <th>0</th>\n",
       "      <td>4728459160322025755</td>\n",
       "      <td>An excellent debut movie for the the director ...</td>\n",
       "    </tr>\n",
       "    <tr>\n",
       "      <th>1</th>\n",
       "      <td>1840432070229003467</td>\n",
       "      <td>If you have a preschooler or remember how stre...</td>\n",
       "    </tr>\n",
       "    <tr>\n",
       "      <th>2</th>\n",
       "      <td>12623336783082722606</td>\n",
       "      <td>What should have been a routine babysitting gi...</td>\n",
       "    </tr>\n",
       "    <tr>\n",
       "      <th>3</th>\n",
       "      <td>7446733850828603409</td>\n",
       "      <td>Cute but</td>\n",
       "    </tr>\n",
       "    <tr>\n",
       "      <th>4</th>\n",
       "      <td>16180660281866613068</td>\n",
       "      <td>Elvis Presley plays a \"half-breed\" Native Amer...</td>\n",
       "    </tr>\n",
       "  </tbody>\n",
       "</table>\n",
       "</div>"
      ],
      "text/plain": [
       "                     ID                                               TEXT\n",
       "0   4728459160322025755  An excellent debut movie for the the director ...\n",
       "1   1840432070229003467  If you have a preschooler or remember how stre...\n",
       "2  12623336783082722606  What should have been a routine babysitting gi...\n",
       "3   7446733850828603409                                           Cute but\n",
       "4  16180660281866613068  Elvis Presley plays a \"half-breed\" Native Amer..."
      ]
     },
     "execution_count": 9,
     "metadata": {},
     "output_type": "execute_result"
    }
   ],
   "source": [
    "test_data.head(5)"
   ]
  },
  {
   "cell_type": "code",
   "execution_count": 10,
   "id": "ee730598",
   "metadata": {},
   "outputs": [],
   "source": [
    "# Text preprocessing\n",
    "stop_words = set(stopwords.words('english'))\n",
    "lemmatizer = WordNetLemmatizer()"
   ]
  },
  {
   "cell_type": "code",
   "execution_count": 11,
   "id": "83726667",
   "metadata": {},
   "outputs": [],
   "source": [
    "def preprocess_text(text):\n",
    "    # Remove any special characters, numbers, and punctuation marks\n",
    "    text = re.sub(r'[^\\w\\s]', '', text)\n",
    "    text = re.sub(r'\\d+', '', text)\n",
    "    # Tokenize the text\n",
    "    tokens = nltk.word_tokenize(text.lower())\n",
    "    # Remove stop words\n",
    "    tokens = [token for token in tokens if token not in stop_words]\n",
    "    # Lemmatize the tokens\n",
    "    tokens = [lemmatizer.lemmatize(token) for token in tokens]\n",
    "    # Join the tokens back into a single string\n",
    "    return ' '.join(tokens)\n"
   ]
  },
  {
   "cell_type": "markdown",
   "id": "16aa9a63",
   "metadata": {},
   "source": [
    "# Removing Stopwords"
   ]
  },
  {
   "cell_type": "code",
   "execution_count": 12,
   "id": "470f3906",
   "metadata": {},
   "outputs": [],
   "source": [
    "train_data[\"TEXT\"]=train_data[\"TEXT\"].apply(preprocess_text)\n",
    "test_data[\"TEXT\"]=test_data[\"TEXT\"].astype(str)\n",
    "test_data[\"TEXT\"]=test_data[\"TEXT\"].apply(preprocess_text)"
   ]
  },
  {
   "cell_type": "code",
   "execution_count": 13,
   "id": "b25a7c30",
   "metadata": {},
   "outputs": [
    {
     "data": {
      "text/plain": [
       "0                  love good film dont ever buy peice crap\n",
       "1        percent nation nitwit still support w bush wou...\n",
       "2        saw anatomy year ago dubbed friend house dont ...\n",
       "3        dark remains home run plain simple film full c...\n",
       "4        feh movie started interesting manner quickly r...\n",
       "                               ...                        \n",
       "70312    grew looking fairy backyard using book guide c...\n",
       "70313    jeff kinga guy know workloves movieespecially ...\n",
       "70314    love way inder writes story honest true thank ...\n",
       "70315    watched movie recently fell love loved storyli...\n",
       "70316    из фунтов муки испечено белых хлебов сколько м...\n",
       "Name: TEXT, Length: 70317, dtype: object"
      ]
     },
     "execution_count": 13,
     "metadata": {},
     "output_type": "execute_result"
    }
   ],
   "source": [
    "train_data['TEXT']"
   ]
  },
  {
   "cell_type": "code",
   "execution_count": 14,
   "id": "d116f943",
   "metadata": {},
   "outputs": [],
   "source": [
    "def remove(df):\n",
    "    html_pattern = re.compile(\"<.*?>\")\n",
    "    url_pattern = re.compile(\"(?P<url>https?://[^\\s]+)\")\n",
    "\n",
    "    df['TEXT'] = df['TEXT'].apply(lambda x: re.sub(url_pattern, '', x))\n",
    "    df['TEXT'] = df['TEXT'].apply(lambda x: re.sub(html_pattern, '', x))\n",
    "\n",
    "    return df"
   ]
  },
  {
   "cell_type": "code",
   "execution_count": 15,
   "id": "c4e29f45",
   "metadata": {},
   "outputs": [],
   "source": [
    "d1=remove(train_data)\n",
    "d2=remove(test_data)"
   ]
  },
  {
   "cell_type": "code",
   "execution_count": 16,
   "id": "b476d26f",
   "metadata": {},
   "outputs": [],
   "source": [
    "np.random.seed(42)"
   ]
  },
  {
   "cell_type": "code",
   "execution_count": 17,
   "id": "2f7ddd9e",
   "metadata": {},
   "outputs": [],
   "source": [
    "X=d1[\"TEXT\"]\n",
    "y=d1[\"LABEL\"]"
   ]
  },
  {
   "cell_type": "code",
   "execution_count": 20,
   "id": "9fd8347e",
   "metadata": {
    "scrolled": true
   },
   "outputs": [],
   "source": [
    "X_real_test=d2[\"TEXT\"]\n",
    "# y_real_test=d2[\"LABEL\"]"
   ]
  },
  {
   "cell_type": "code",
   "execution_count": 21,
   "id": "56952f95",
   "metadata": {},
   "outputs": [],
   "source": [
    "# Split the train_data into training and validation sets\n",
    "X_train, X_test, y_train, y_test = train_test_split(X, y, test_size=0.25, random_state=42)\n",
    "x_test= d2[\"TEXT\"]\n"
   ]
  },
  {
   "cell_type": "code",
   "execution_count": 22,
   "id": "e32f2996",
   "metadata": {},
   "outputs": [],
   "source": [
    "# Create a TfidfVectorizer for feature extraction\n",
    "vectorizer_log = TfidfVectorizer(stop_words='english', lowercase=False)\n",
    "model_log = LogisticRegression(max_iter=900, C=1, solver='sag')\n",
    "X_train_tfidf_log = vectorizer_log.fit_transform(X)\n",
    "x_real_test_tfidf_log=vectorizer_log.transform(X_real_test)"
   ]
  },
  {
   "cell_type": "code",
   "execution_count": 23,
   "id": "5cc27d1e",
   "metadata": {},
   "outputs": [],
   "source": [
    "#X_train_tfidf.shape"
   ]
  },
  {
   "cell_type": "code",
   "execution_count": 24,
   "id": "b64cb081",
   "metadata": {},
   "outputs": [
    {
     "name": "stdout",
     "output_type": "stream",
     "text": [
      "SVM Classifier Results:\n",
      "Accuracy score: 0.9169510807736063\n",
      "F1-score: 0.9036839744300317\n"
     ]
    }
   ],
   "source": [
    "import re\n",
    "import pandas as pd\n",
    "from sklearn.feature_extraction.text import TfidfVectorizer\n",
    "from sklearn.model_selection import train_test_split\n",
    "from sklearn.metrics import accuracy_score, f1_score\n",
    "from sklearn.svm import SVC\n",
    "from sklearn.ensemble import RandomForestClassifier\n",
    "\n",
    "def remove(df):\n",
    "    html_pattern = re.compile(\"<.*?>\")\n",
    "    url_pattern = re.compile(\"(?P<url>https?://[^\\s]+)\")\n",
    "\n",
    "    df['TEXT'] = df['TEXT'].apply(lambda x: re.sub(url_pattern, '', x))\n",
    "    df['TEXT'] = df['TEXT'].apply(lambda x: re.sub(html_pattern, '', x))\n",
    "\n",
    "    return df\n",
    "\n",
    "d1 = remove(train_data)\n",
    "\n",
    "X = d1[\"TEXT\"]\n",
    "y = d1[\"LABEL\"]\n",
    "\n",
    "# Create a TfidfVectorizer for feature extraction\n",
    "vectorizer = TfidfVectorizer(stop_words='english', lowercase=False)\n",
    "\n",
    "X_tfidf = vectorizer.fit_transform(X)\n",
    "\n",
    "# Split the data into training and testing sets\n",
    "X_train, X_test, y_train, y_test = train_test_split(X_tfidf, y, test_size=0.25, random_state=42)\n",
    "\n",
    "\n",
    "svm_clf = SVC()\n",
    "svm_clf.fit(X_train, y_train)\n",
    "svm_y_pred = svm_clf.predict(X_test)\n",
    "\n",
    "print(\"SVM Classifier Results:\")\n",
    "print(\"Accuracy score:\", accuracy_score(y_test, svm_y_pred))\n",
    "print(\"F1-score:\", f1_score(y_test, svm_y_pred, average='macro'))\n",
    "\n",
    "\n",
    "## Also tried implementing grid search along with svm. It look too long to run this chunk of code.\n",
    "# # Support Vector Machine (SVM) classifier\n",
    "# svm_clf = SVC()\n",
    "\n",
    "# # Define the parameter grid\n",
    "# param_grid = {\n",
    "#     'C': [0.1, 1, 10, 100],\n",
    "#     'kernel': ['linear', 'rbf', 'poly', 'sigmoid']\n",
    "# }\n",
    "\n",
    "# # Perform grid search\n",
    "# grid_search = GridSearchCV(svm_clf, param_grid, scoring='f1_macro', cv=5, n_jobs=-1)\n",
    "# grid_search.fit(X_train, y_train)\n",
    "\n",
    "# # Get the best parameters\n",
    "# best_params = grid_search.best_params_\n",
    "# print(\"Best parameters:\", best_params)\n",
    "\n",
    "# # Train the SVM classifier with the best parameters\n",
    "# best_svm_clf = SVC(C=best_params['C'], kernel=best_params['kernel'])\n",
    "# best_svm_clf.fit(X_train, y_train)\n",
    "# svm_y_pred = best_svm_clf.predict(X_test)\n",
    "\n",
    "# print(\"SVM Classifier Results:\")\n",
    "# print(\"Accuracy score:\", accuracy_score(y_test, svm_y_pred))\n",
    "# print(\"F1-score:\", f1_score(y_test, svm_y_pred, average='macro'))\n",
    "\n"
   ]
  },
  {
   "cell_type": "code",
   "execution_count": 32,
   "id": "21ad335b",
   "metadata": {},
   "outputs": [
    {
     "data": {
      "text/plain": [
       "array([1, 0, 2, ..., 2, 0, 1], dtype=int64)"
      ]
     },
     "execution_count": 32,
     "metadata": {},
     "output_type": "execute_result"
    }
   ],
   "source": [
    "svm_y_pred"
   ]
  },
  {
   "cell_type": "code",
   "execution_count": 34,
   "id": "e3d17b54",
   "metadata": {},
   "outputs": [
    {
     "data": {
      "text/html": [
       "<div>\n",
       "<style scoped>\n",
       "    .dataframe tbody tr th:only-of-type {\n",
       "        vertical-align: middle;\n",
       "    }\n",
       "\n",
       "    .dataframe tbody tr th {\n",
       "        vertical-align: top;\n",
       "    }\n",
       "\n",
       "    .dataframe thead th {\n",
       "        text-align: right;\n",
       "    }\n",
       "</style>\n",
       "<table border=\"1\" class=\"dataframe\">\n",
       "  <thead>\n",
       "    <tr style=\"text-align: right;\">\n",
       "      <th></th>\n",
       "      <th>ID</th>\n",
       "      <th>LABEL</th>\n",
       "    </tr>\n",
       "  </thead>\n",
       "  <tbody>\n",
       "    <tr>\n",
       "      <th>0</th>\n",
       "      <td>4728459160322025755</td>\n",
       "      <td>1</td>\n",
       "    </tr>\n",
       "    <tr>\n",
       "      <th>1</th>\n",
       "      <td>1840432070229003467</td>\n",
       "      <td>0</td>\n",
       "    </tr>\n",
       "    <tr>\n",
       "      <th>2</th>\n",
       "      <td>12623336783082722606</td>\n",
       "      <td>2</td>\n",
       "    </tr>\n",
       "    <tr>\n",
       "      <th>3</th>\n",
       "      <td>7446733850828603409</td>\n",
       "      <td>2</td>\n",
       "    </tr>\n",
       "    <tr>\n",
       "      <th>4</th>\n",
       "      <td>16180660281866613068</td>\n",
       "      <td>1</td>\n",
       "    </tr>\n",
       "    <tr>\n",
       "      <th>...</th>\n",
       "      <td>...</td>\n",
       "      <td>...</td>\n",
       "    </tr>\n",
       "    <tr>\n",
       "      <th>17575</th>\n",
       "      <td>15460118162570972562</td>\n",
       "      <td>0</td>\n",
       "    </tr>\n",
       "    <tr>\n",
       "      <th>17576</th>\n",
       "      <td>2679547768967862209</td>\n",
       "      <td>2</td>\n",
       "    </tr>\n",
       "    <tr>\n",
       "      <th>17577</th>\n",
       "      <td>2966026531113989116</td>\n",
       "      <td>2</td>\n",
       "    </tr>\n",
       "    <tr>\n",
       "      <th>17578</th>\n",
       "      <td>10698695044532313190</td>\n",
       "      <td>0</td>\n",
       "    </tr>\n",
       "    <tr>\n",
       "      <th>17579</th>\n",
       "      <td>8504104014180128164</td>\n",
       "      <td>1</td>\n",
       "    </tr>\n",
       "  </tbody>\n",
       "</table>\n",
       "<p>17580 rows × 2 columns</p>\n",
       "</div>"
      ],
      "text/plain": [
       "                         ID  LABEL\n",
       "0       4728459160322025755      1\n",
       "1       1840432070229003467      0\n",
       "2      12623336783082722606      2\n",
       "3       7446733850828603409      2\n",
       "4      16180660281866613068      1\n",
       "...                     ...    ...\n",
       "17575  15460118162570972562      0\n",
       "17576   2679547768967862209      2\n",
       "17577   2966026531113989116      2\n",
       "17578  10698695044532313190      0\n",
       "17579   8504104014180128164      1\n",
       "\n",
       "[17580 rows x 2 columns]"
      ]
     },
     "execution_count": 34,
     "metadata": {},
     "output_type": "execute_result"
    }
   ],
   "source": [
    "# Make predictions on the test dataset\n",
    "test_data['LABEL'] = svm_y_pred\n",
    "test_data = test_data.drop(columns=[\"TEXT\"], axis=1)\n",
    "test_data"
   ]
  },
  {
   "cell_type": "code",
   "execution_count": 35,
   "id": "17891cf2",
   "metadata": {},
   "outputs": [
    {
     "data": {
      "text/html": [
       "<div>\n",
       "<style scoped>\n",
       "    .dataframe tbody tr th:only-of-type {\n",
       "        vertical-align: middle;\n",
       "    }\n",
       "\n",
       "    .dataframe tbody tr th {\n",
       "        vertical-align: top;\n",
       "    }\n",
       "\n",
       "    .dataframe thead th {\n",
       "        text-align: right;\n",
       "    }\n",
       "</style>\n",
       "<table border=\"1\" class=\"dataframe\">\n",
       "  <thead>\n",
       "    <tr style=\"text-align: right;\">\n",
       "      <th></th>\n",
       "      <th>ID</th>\n",
       "      <th>LABEL</th>\n",
       "    </tr>\n",
       "  </thead>\n",
       "  <tbody>\n",
       "    <tr>\n",
       "      <th>0</th>\n",
       "      <td>4728459160322025755</td>\n",
       "      <td>1</td>\n",
       "    </tr>\n",
       "    <tr>\n",
       "      <th>1</th>\n",
       "      <td>1840432070229003467</td>\n",
       "      <td>0</td>\n",
       "    </tr>\n",
       "    <tr>\n",
       "      <th>2</th>\n",
       "      <td>12623336783082722606</td>\n",
       "      <td>2</td>\n",
       "    </tr>\n",
       "    <tr>\n",
       "      <th>3</th>\n",
       "      <td>7446733850828603409</td>\n",
       "      <td>2</td>\n",
       "    </tr>\n",
       "    <tr>\n",
       "      <th>4</th>\n",
       "      <td>16180660281866613068</td>\n",
       "      <td>1</td>\n",
       "    </tr>\n",
       "    <tr>\n",
       "      <th>...</th>\n",
       "      <td>...</td>\n",
       "      <td>...</td>\n",
       "    </tr>\n",
       "    <tr>\n",
       "      <th>17575</th>\n",
       "      <td>15460118162570972562</td>\n",
       "      <td>0</td>\n",
       "    </tr>\n",
       "    <tr>\n",
       "      <th>17576</th>\n",
       "      <td>2679547768967862209</td>\n",
       "      <td>2</td>\n",
       "    </tr>\n",
       "    <tr>\n",
       "      <th>17577</th>\n",
       "      <td>2966026531113989116</td>\n",
       "      <td>2</td>\n",
       "    </tr>\n",
       "    <tr>\n",
       "      <th>17578</th>\n",
       "      <td>10698695044532313190</td>\n",
       "      <td>0</td>\n",
       "    </tr>\n",
       "    <tr>\n",
       "      <th>17579</th>\n",
       "      <td>8504104014180128164</td>\n",
       "      <td>1</td>\n",
       "    </tr>\n",
       "  </tbody>\n",
       "</table>\n",
       "<p>17580 rows × 2 columns</p>\n",
       "</div>"
      ],
      "text/plain": [
       "                         ID  LABEL\n",
       "0       4728459160322025755      1\n",
       "1       1840432070229003467      0\n",
       "2      12623336783082722606      2\n",
       "3       7446733850828603409      2\n",
       "4      16180660281866613068      1\n",
       "...                     ...    ...\n",
       "17575  15460118162570972562      0\n",
       "17576   2679547768967862209      2\n",
       "17577   2966026531113989116      2\n",
       "17578  10698695044532313190      0\n",
       "17579   8504104014180128164      1\n",
       "\n",
       "[17580 rows x 2 columns]"
      ]
     },
     "execution_count": 35,
     "metadata": {},
     "output_type": "execute_result"
    }
   ],
   "source": [
    "test_data"
   ]
  },
  {
   "cell_type": "code",
   "execution_count": 38,
   "id": "4a25e1b7",
   "metadata": {},
   "outputs": [],
   "source": [
    "orig_dict= test_data.set_index(\"ID\")[\"LABEL\"].to_dict()"
   ]
  }
 ],
 "metadata": {
  "kernelspec": {
   "display_name": "Python 3 (ipykernel)",
   "language": "python",
   "name": "python3"
  },
  "language_info": {
   "codemirror_mode": {
    "name": "ipython",
    "version": 3
   },
   "file_extension": ".py",
   "mimetype": "text/x-python",
   "name": "python",
   "nbconvert_exporter": "python",
   "pygments_lexer": "ipython3",
   "version": "3.9.13"
  }
 },
 "nbformat": 4,
 "nbformat_minor": 5
}
